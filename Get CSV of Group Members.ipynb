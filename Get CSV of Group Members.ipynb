{
 "cells": [
  {
   "cell_type": "markdown",
   "metadata": {},
   "source": [
    "# Get Group Members\n",
    "\n",
    "## Why you are using this script\n",
    "This script creates a csv of group members for a provided course. \n",
    "The output is a csv called \"courseid_course_name_Group Information_datetime.csv\" in the folder \"output\".\n",
    "\n",
    "## How to run\n",
    "You need to have\n",
    "1. A valid token - be prepared to copy and paste\n",
    "1. The course id (should be a number)\n",
    "1. Below confirm that the API_URL is your institution (if not, you can change it directly)\n",
    "\n",
    "To run\n",
    "Select \"Kernel -> Restart and Run All\" \n",
    "\n",
    "## What to Expect\n",
    "### Url Validation\n",
    "You will be asked to confirm or change the API_URL. (You might want to change to https://ubc.test.instructure.com for testing purposes.\n",
    "\n",
    "### Token Validation\n",
    "You will be asked to enter your token. If it is valid, you will see your name and user id. If it is not valid, you will see an error message.\n",
    "\n",
    "### Course Entry\n",
    "You will be asked to enter the course id. If you have appropriate access to the course you will see the Course ID and Course Name and the script will move on to the next stage.\n",
    "\n",
    "### Confirmation\n",
    "If the token and course id are valid you should see the csv that will be generated. You will be asked to confirm 'y' or not 'n'. If you confirm (y) then a new csv will be generated. If you do not confirm (n), the script will end. I recommend running \"Kernel -> Restart and Clear Output\" before exiting.\n",
    "\n",
    "### Output\n",
    "\n",
    "The output should have the following columns and similar rows of data. \n",
    "Note - the example below also has a description of each column - this will NOT appear in the final output.\n",
    "\n",
    "\"123_Some Course_Group Information.csv\"\n",
    "\n",
    "|course_id|course_name|group_id|group_name|user_id|user_name|\n",
    "|---|---|---|---|---|---|\n",
    "|(entered course id)|(retrieved course name)|(canvas group id)|(canvas group name)|(canvas user id)|(canvas name)|\n",
    "|---|---|---|---|---|---|---|\n",
    "|123|Some Course|124|Some Group|1123|User Name 1|\n",
    "|123|Some Course|124|Some Group|1232|User Name 2|\n",
    "|123|Some Course|124|Some Group|1423|User Name 3|\n"
   ]
  },
  {
   "cell_type": "markdown",
   "metadata": {},
   "source": [
    "# Run the script\n",
    "\n",
    "Watch for inputs required as the script runs."
   ]
  },
  {
   "cell_type": "code",
   "execution_count": null,
   "metadata": {
    "tags": []
   },
   "outputs": [
    {
     "name": "stdout",
     "output_type": "stream",
     "text": [
      "Please enter your url: https://ubc.test.instructure.com\n",
      "Please enter your token: ········\n",
      "\u001b[32m\n",
      "Hello, Alison Myers!\u001b[0m\n"
     ]
    }
   ],
   "source": [
    "%run -i \"src/get_csv_of_group_members.py\""
   ]
  },
  {
   "cell_type": "code",
   "execution_count": 10,
   "metadata": {},
   "outputs": [
    {
     "ename": "IndexError",
     "evalue": "list index out of range",
     "output_type": "error",
     "traceback": [
      "\u001b[0;31m---------------------------------------------------------------------------\u001b[0m",
      "\u001b[0;31mIndexError\u001b[0m                                Traceback (most recent call last)",
      "\u001b[0;32m~/Documents/GitHub/Sauder_Learning_Services/group_csv/src/get_csv_of_group_members.py\u001b[0m in \u001b[0;36m<module>\u001b[0;34m\u001b[0m\n\u001b[1;32m      1\u001b[0m \u001b[0mgroups\u001b[0m \u001b[0;34m=\u001b[0m \u001b[0msettings\u001b[0m\u001b[0;34m.\u001b[0m\u001b[0mcourse\u001b[0m\u001b[0;34m.\u001b[0m\u001b[0mget_groups\u001b[0m\u001b[0;34m(\u001b[0m\u001b[0;34m)\u001b[0m\u001b[0;34m\u001b[0m\u001b[0;34m\u001b[0m\u001b[0m\n\u001b[0;32m----> 2\u001b[0;31m \u001b[0mgroups\u001b[0m\u001b[0;34m[\u001b[0m\u001b[0;36m0\u001b[0m\u001b[0;34m]\u001b[0m\u001b[0;34m\u001b[0m\u001b[0;34m\u001b[0m\u001b[0m\n\u001b[0m",
      "\u001b[0;32m/anaconda3/envs/la_data/lib/python3.7/site-packages/canvasapi/paginated_list.py\u001b[0m in \u001b[0;36m__getitem__\u001b[0;34m(self, index)\u001b[0m\n\u001b[1;32m     15\u001b[0m                 \u001b[0;32mraise\u001b[0m \u001b[0mIndexError\u001b[0m\u001b[0;34m(\u001b[0m\u001b[0;34m\"Cannot negative index a PaginatedList\"\u001b[0m\u001b[0;34m)\u001b[0m\u001b[0;34m\u001b[0m\u001b[0;34m\u001b[0m\u001b[0m\n\u001b[1;32m     16\u001b[0m             \u001b[0mself\u001b[0m\u001b[0;34m.\u001b[0m\u001b[0m_get_up_to_index\u001b[0m\u001b[0;34m(\u001b[0m\u001b[0mindex\u001b[0m\u001b[0;34m)\u001b[0m\u001b[0;34m\u001b[0m\u001b[0;34m\u001b[0m\u001b[0m\n\u001b[0;32m---> 17\u001b[0;31m             \u001b[0;32mreturn\u001b[0m \u001b[0mself\u001b[0m\u001b[0;34m.\u001b[0m\u001b[0m_elements\u001b[0m\u001b[0;34m[\u001b[0m\u001b[0mindex\u001b[0m\u001b[0;34m]\u001b[0m\u001b[0;34m\u001b[0m\u001b[0;34m\u001b[0m\u001b[0m\n\u001b[0m\u001b[1;32m     18\u001b[0m         \u001b[0;32melse\u001b[0m\u001b[0;34m:\u001b[0m\u001b[0;34m\u001b[0m\u001b[0;34m\u001b[0m\u001b[0m\n\u001b[1;32m     19\u001b[0m             \u001b[0;32mreturn\u001b[0m \u001b[0mself\u001b[0m\u001b[0;34m.\u001b[0m\u001b[0m_Slice\u001b[0m\u001b[0;34m(\u001b[0m\u001b[0mself\u001b[0m\u001b[0;34m,\u001b[0m \u001b[0mindex\u001b[0m\u001b[0;34m)\u001b[0m\u001b[0;34m\u001b[0m\u001b[0;34m\u001b[0m\u001b[0m\n",
      "\u001b[0;31mIndexError\u001b[0m: list index out of range"
     ]
    }
   ],
   "source": [
    "groups = settings.course.get_groups()\n",
    "groups[0]"
   ]
  },
  {
   "cell_type": "code",
   "execution_count": null,
   "metadata": {},
   "outputs": [],
   "source": []
  }
 ],
 "metadata": {
  "kernelspec": {
   "display_name": "Python 3.7.4 64-bit ('la_data': conda)",
   "language": "python",
   "name": "python37464bitladataconda59808c641db24bad8e09b4d768e10fd4"
  },
  "language_info": {
   "codemirror_mode": {
    "name": "ipython",
    "version": 3
   },
   "file_extension": ".py",
   "mimetype": "text/x-python",
   "name": "python",
   "nbconvert_exporter": "python",
   "pygments_lexer": "ipython3",
   "version": "3.7.4"
  }
 },
 "nbformat": 4,
 "nbformat_minor": 4
}
